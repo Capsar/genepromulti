{
 "cells": [
  {
   "attachments": {},
   "cell_type": "markdown",
   "metadata": {},
   "source": [
    "# Evolving a Lunar Lander with differentiable Genetic Programming"
   ]
  },
  {
   "attachments": {},
   "cell_type": "markdown",
   "metadata": {},
   "source": [
    "## Installation\n",
    "To install the required libraries run the command:"
   ]
  },
  {
   "cell_type": "code",
   "execution_count": 1,
   "metadata": {},
   "outputs": [
    {
     "name": "stdout",
     "output_type": "stream",
     "text": [
      "Collecting pygame==2.1.0\n",
      "  Using cached pygame-2.1.0-cp310-cp310-macosx_11_0_arm64.whl (4.8 MB)\n",
      "Collecting pyglet==1.5.21\n",
      "  Using cached pyglet-1.5.21-py3-none-any.whl (1.1 MB)\n",
      "Collecting matplotlib\n",
      "  Using cached matplotlib-3.7.1-cp310-cp310-macosx_11_0_arm64.whl (7.3 MB)\n",
      "Collecting numpy\n",
      "  Using cached numpy-1.24.3-cp310-cp310-macosx_11_0_arm64.whl (13.9 MB)\n",
      "Collecting scikit-learn\n",
      "  Using cached scikit_learn-1.2.2-cp310-cp310-macosx_12_0_arm64.whl (8.5 MB)\n",
      "Collecting sympy>=1.9\n",
      "  Downloading sympy-1.12-py3-none-any.whl (5.7 MB)\n",
      "\u001b[2K     \u001b[90m━━━━━━━━━━━━━━━━━━━━━━━━━━━━━━━━━━━━━━━━\u001b[0m \u001b[32m5.7/5.7 MB\u001b[0m \u001b[31m2.9 MB/s\u001b[0m eta \u001b[36m0:00:00\u001b[0m00:01\u001b[0m00:01\u001b[0m\n",
      "\u001b[?25hCollecting joblib>=1.1.0\n",
      "  Using cached joblib-1.2.0-py3-none-any.whl (297 kB)\n",
      "Collecting torch\n",
      "  Downloading torch-2.0.1-cp310-none-macosx_11_0_arm64.whl (55.8 MB)\n",
      "\u001b[2K     \u001b[90m━━━━━━━━━━━━━━━━━━━━━━━━━━━━━━━━━━━━━━━━\u001b[0m \u001b[32m55.8/55.8 MB\u001b[0m \u001b[31m4.8 MB/s\u001b[0m eta \u001b[36m0:00:00\u001b[0m00:01\u001b[0m00:01\u001b[0m\n",
      "\u001b[?25hCollecting notebook\n",
      "  Downloading notebook-6.5.4-py3-none-any.whl (529 kB)\n",
      "\u001b[2K     \u001b[90m━━━━━━━━━━━━━━━━━━━━━━━━━━━━━━━━━━━━━━━\u001b[0m \u001b[32m529.8/529.8 kB\u001b[0m \u001b[31m4.0 MB/s\u001b[0m eta \u001b[36m0:00:00\u001b[0ma \u001b[36m0:00:01\u001b[0m\n",
      "\u001b[?25hCollecting swig\n",
      "  Using cached swig-4.1.1-py2.py3-none-macosx_11_0_arm64.whl (1.7 MB)\n",
      "Collecting gymnasium[box2d]\n",
      "  Using cached gymnasium-0.28.1-py3-none-any.whl (925 kB)\n",
      "Requirement already satisfied: python-dateutil>=2.7 in /Users/benjacobs/miniconda3/envs/evolutionary-algorithms/lib/python3.10/site-packages (from matplotlib->-r requirements.txt (line 3)) (2.8.2)\n",
      "Collecting kiwisolver>=1.0.1\n",
      "  Using cached kiwisolver-1.4.4-cp310-cp310-macosx_11_0_arm64.whl (63 kB)\n",
      "Collecting pyparsing>=2.3.1\n",
      "  Using cached pyparsing-3.0.9-py3-none-any.whl (98 kB)\n",
      "Collecting cycler>=0.10\n",
      "  Using cached cycler-0.11.0-py3-none-any.whl (6.4 kB)\n",
      "Collecting pillow>=6.2.0\n",
      "  Using cached Pillow-9.5.0-cp310-cp310-macosx_11_0_arm64.whl (3.1 MB)\n",
      "Collecting contourpy>=1.0.1\n",
      "  Using cached contourpy-1.0.7-cp310-cp310-macosx_11_0_arm64.whl (229 kB)\n",
      "Collecting fonttools>=4.22.0\n",
      "  Downloading fonttools-4.39.4-py3-none-any.whl (1.0 MB)\n",
      "\u001b[2K     \u001b[90m━━━━━━━━━━━━━━━━━━━━━━━━━━━━━━━━━━━━━━━━\u001b[0m \u001b[32m1.0/1.0 MB\u001b[0m \u001b[31m7.2 MB/s\u001b[0m eta \u001b[36m0:00:00\u001b[0ma \u001b[36m0:00:01\u001b[0m\n",
      "\u001b[?25hRequirement already satisfied: packaging>=20.0 in /Users/benjacobs/miniconda3/envs/evolutionary-algorithms/lib/python3.10/site-packages (from matplotlib->-r requirements.txt (line 3)) (23.1)\n",
      "Collecting scipy>=1.3.2\n",
      "  Using cached scipy-1.10.1-cp310-cp310-macosx_12_0_arm64.whl (28.8 MB)\n",
      "Collecting threadpoolctl>=2.0.0\n",
      "  Using cached threadpoolctl-3.1.0-py3-none-any.whl (14 kB)\n",
      "Collecting mpmath>=0.19\n",
      "  Using cached mpmath-1.3.0-py3-none-any.whl (536 kB)\n",
      "Collecting filelock\n",
      "  Downloading filelock-3.12.0-py3-none-any.whl (10 kB)\n",
      "Collecting jinja2\n",
      "  Using cached Jinja2-3.1.2-py3-none-any.whl (133 kB)\n",
      "Requirement already satisfied: typing-extensions in /Users/benjacobs/miniconda3/envs/evolutionary-algorithms/lib/python3.10/site-packages (from torch->-r requirements.txt (line 8)) (4.5.0)\n",
      "Collecting networkx\n",
      "  Using cached networkx-3.1-py3-none-any.whl (2.1 MB)\n",
      "Collecting Send2Trash>=1.8.0\n",
      "  Downloading Send2Trash-1.8.2-py3-none-any.whl (18 kB)\n",
      "Requirement already satisfied: pyzmq>=17 in /Users/benjacobs/miniconda3/envs/evolutionary-algorithms/lib/python3.10/site-packages (from notebook->-r requirements.txt (line 9)) (25.0.2)\n",
      "Requirement already satisfied: jupyter-core>=4.6.1 in /Users/benjacobs/miniconda3/envs/evolutionary-algorithms/lib/python3.10/site-packages (from notebook->-r requirements.txt (line 9)) (5.3.0)\n",
      "Collecting ipython-genutils\n",
      "  Using cached ipython_genutils-0.2.0-py2.py3-none-any.whl (26 kB)\n",
      "Requirement already satisfied: traitlets>=4.2.1 in /Users/benjacobs/miniconda3/envs/evolutionary-algorithms/lib/python3.10/site-packages (from notebook->-r requirements.txt (line 9)) (5.9.0)\n",
      "Requirement already satisfied: tornado>=6.1 in /Users/benjacobs/miniconda3/envs/evolutionary-algorithms/lib/python3.10/site-packages (from notebook->-r requirements.txt (line 9)) (6.2)\n",
      "Requirement already satisfied: jupyter-client>=5.3.4 in /Users/benjacobs/miniconda3/envs/evolutionary-algorithms/lib/python3.10/site-packages (from notebook->-r requirements.txt (line 9)) (8.2.0)\n",
      "Collecting nbclassic>=0.4.7\n",
      "  Downloading nbclassic-1.0.0-py3-none-any.whl (10.0 MB)\n",
      "\u001b[2K     \u001b[90m━━━━━━━━━━━━━━━━━━━━━━━━━━━━━━━━━━━━━━━━\u001b[0m \u001b[32m10.0/10.0 MB\u001b[0m \u001b[31m4.9 MB/s\u001b[0m eta \u001b[36m0:00:00\u001b[0m00:01\u001b[0m0:01\u001b[0mm\n",
      "\u001b[?25hCollecting argon2-cffi\n",
      "  Using cached argon2_cffi-21.3.0-py3-none-any.whl (14 kB)\n",
      "Requirement already satisfied: nest-asyncio>=1.5 in /Users/benjacobs/miniconda3/envs/evolutionary-algorithms/lib/python3.10/site-packages (from notebook->-r requirements.txt (line 9)) (1.5.6)\n",
      "Collecting terminado>=0.8.3\n",
      "  Using cached terminado-0.17.1-py3-none-any.whl (17 kB)\n",
      "Collecting nbformat\n",
      "  Downloading nbformat-5.8.0-py3-none-any.whl (77 kB)\n",
      "\u001b[2K     \u001b[90m━━━━━━━━━━━━━━━━━━━━━━━━━━━━━━━━━━━━━━━━\u001b[0m \u001b[32m77.4/77.4 kB\u001b[0m \u001b[31m3.0 MB/s\u001b[0m eta \u001b[36m0:00:00\u001b[0m\n",
      "\u001b[?25hRequirement already satisfied: ipykernel in /Users/benjacobs/miniconda3/envs/evolutionary-algorithms/lib/python3.10/site-packages (from notebook->-r requirements.txt (line 9)) (6.15.0)\n",
      "Collecting nbconvert>=5\n",
      "  Downloading nbconvert-7.4.0-py3-none-any.whl (285 kB)\n",
      "\u001b[2K     \u001b[90m━━━━━━━━━━━━━━━━━━━━━━━━━━━━━━━━━━━━━━━\u001b[0m \u001b[32m285.9/285.9 kB\u001b[0m \u001b[31m8.9 MB/s\u001b[0m eta \u001b[36m0:00:00\u001b[0m\n",
      "\u001b[?25hCollecting prometheus-client\n",
      "  Using cached prometheus_client-0.16.0-py3-none-any.whl (122 kB)\n",
      "Collecting cloudpickle>=1.2.0\n",
      "  Using cached cloudpickle-2.2.1-py3-none-any.whl (25 kB)\n",
      "Collecting jax-jumpy>=1.0.0\n",
      "  Using cached jax_jumpy-1.0.0-py3-none-any.whl (20 kB)\n",
      "Collecting farama-notifications>=0.0.1\n",
      "  Using cached Farama_Notifications-0.0.4-py3-none-any.whl (2.5 kB)\n",
      "Collecting box2d-py==2.3.5\n",
      "  Using cached box2d-py-2.3.5.tar.gz (374 kB)\n",
      "  Preparing metadata (setup.py) ... \u001b[?25ldone\n",
      "\u001b[?25hCollecting gymnasium[box2d]\n",
      "  Using cached gymnasium-0.28.0-py3-none-any.whl (925 kB)\n",
      "  Using cached gymnasium-0.27.1-py3-none-any.whl (883 kB)\n",
      "Collecting gymnasium-notices>=0.0.1\n",
      "  Using cached gymnasium_notices-0.0.1-py3-none-any.whl (2.8 kB)\n",
      "Collecting gymnasium[box2d]\n",
      "  Using cached gymnasium-0.27.0-py3-none-any.whl (879 kB)\n",
      "Collecting shimmy<1.0,>=0.1.0\n",
      "  Using cached Shimmy-0.2.1-py3-none-any.whl (25 kB)\n",
      "Collecting gymnasium[box2d]\n",
      "  Using cached Gymnasium-0.26.3-py3-none-any.whl (836 kB)\n",
      "Requirement already satisfied: platformdirs>=2.5 in /Users/benjacobs/miniconda3/envs/evolutionary-algorithms/lib/python3.10/site-packages (from jupyter-core>=4.6.1->notebook->-r requirements.txt (line 9)) (3.5.1)\n",
      "Collecting notebook-shim>=0.2.3\n",
      "  Downloading notebook_shim-0.2.3-py3-none-any.whl (13 kB)\n",
      "Collecting jupyter-server>=1.8\n",
      "  Downloading jupyter_server-2.5.0-py3-none-any.whl (366 kB)\n",
      "\u001b[2K     \u001b[90m━━━━━━━━━━━━━━━━━━━━━━━━━━━━━━━━━━━━━━━\u001b[0m \u001b[32m366.8/366.8 kB\u001b[0m \u001b[31m9.0 MB/s\u001b[0m eta \u001b[36m0:00:00\u001b[0m00:01\u001b[0m\n",
      "\u001b[?25hCollecting markupsafe>=2.0\n",
      "  Using cached MarkupSafe-2.1.2-cp310-cp310-macosx_10_9_universal2.whl (17 kB)\n",
      "Collecting mistune<3,>=2.0.3\n",
      "  Using cached mistune-2.0.5-py2.py3-none-any.whl (24 kB)\n",
      "Requirement already satisfied: pygments>=2.4.1 in /Users/benjacobs/miniconda3/envs/evolutionary-algorithms/lib/python3.10/site-packages (from nbconvert>=5->notebook->-r requirements.txt (line 9)) (2.15.1)\n",
      "Collecting tinycss2\n",
      "  Using cached tinycss2-1.2.1-py3-none-any.whl (21 kB)\n",
      "Collecting nbclient>=0.5.0\n",
      "  Downloading nbclient-0.8.0-py3-none-any.whl (73 kB)\n",
      "\u001b[2K     \u001b[90m━━━━━━━━━━━━━━━━━━━━━━━━━━━━━━━━━━━━━━━━\u001b[0m \u001b[32m73.1/73.1 kB\u001b[0m \u001b[31m1.2 MB/s\u001b[0m eta \u001b[36m0:00:00\u001b[0m-:--:--\u001b[0m\n",
      "\u001b[?25hCollecting jupyterlab-pygments\n",
      "  Using cached jupyterlab_pygments-0.2.2-py2.py3-none-any.whl (21 kB)\n",
      "Collecting bleach\n",
      "  Using cached bleach-6.0.0-py3-none-any.whl (162 kB)\n",
      "Collecting pandocfilters>=1.4.1\n",
      "  Using cached pandocfilters-1.5.0-py2.py3-none-any.whl (8.7 kB)\n",
      "Collecting defusedxml\n",
      "  Using cached defusedxml-0.7.1-py2.py3-none-any.whl (25 kB)\n",
      "Collecting beautifulsoup4\n",
      "  Using cached beautifulsoup4-4.12.2-py3-none-any.whl (142 kB)\n",
      "Collecting fastjsonschema\n",
      "  Downloading fastjsonschema-2.17.1-py3-none-any.whl (23 kB)\n",
      "Collecting jsonschema>=2.6\n",
      "  Using cached jsonschema-4.17.3-py3-none-any.whl (90 kB)\n",
      "Requirement already satisfied: six>=1.5 in /Users/benjacobs/miniconda3/envs/evolutionary-algorithms/lib/python3.10/site-packages (from python-dateutil>=2.7->matplotlib->-r requirements.txt (line 3)) (1.16.0)\n",
      "Requirement already satisfied: ptyprocess in /Users/benjacobs/miniconda3/envs/evolutionary-algorithms/lib/python3.10/site-packages (from terminado>=0.8.3->notebook->-r requirements.txt (line 9)) (0.7.0)\n",
      "Collecting argon2-cffi-bindings\n",
      "  Using cached argon2_cffi_bindings-21.2.0-cp38-abi3-macosx_10_9_universal2.whl (53 kB)\n",
      "Requirement already satisfied: psutil in /Users/benjacobs/miniconda3/envs/evolutionary-algorithms/lib/python3.10/site-packages (from ipykernel->notebook->-r requirements.txt (line 9)) (5.9.0)\n",
      "Requirement already satisfied: ipython>=7.23.1 in /Users/benjacobs/miniconda3/envs/evolutionary-algorithms/lib/python3.10/site-packages (from ipykernel->notebook->-r requirements.txt (line 9)) (8.13.2)\n",
      "Requirement already satisfied: appnope in /Users/benjacobs/miniconda3/envs/evolutionary-algorithms/lib/python3.10/site-packages (from ipykernel->notebook->-r requirements.txt (line 9)) (0.1.3)\n",
      "Requirement already satisfied: matplotlib-inline>=0.1 in /Users/benjacobs/miniconda3/envs/evolutionary-algorithms/lib/python3.10/site-packages (from ipykernel->notebook->-r requirements.txt (line 9)) (0.1.6)\n",
      "Requirement already satisfied: debugpy>=1.0 in /Users/benjacobs/miniconda3/envs/evolutionary-algorithms/lib/python3.10/site-packages (from ipykernel->notebook->-r requirements.txt (line 9)) (1.5.1)\n",
      "Requirement already satisfied: prompt-toolkit!=3.0.37,<3.1.0,>=3.0.30 in /Users/benjacobs/miniconda3/envs/evolutionary-algorithms/lib/python3.10/site-packages (from ipython>=7.23.1->ipykernel->notebook->-r requirements.txt (line 9)) (3.0.38)\n",
      "Requirement already satisfied: jedi>=0.16 in /Users/benjacobs/miniconda3/envs/evolutionary-algorithms/lib/python3.10/site-packages (from ipython>=7.23.1->ipykernel->notebook->-r requirements.txt (line 9)) (0.18.2)\n",
      "Requirement already satisfied: stack-data in /Users/benjacobs/miniconda3/envs/evolutionary-algorithms/lib/python3.10/site-packages (from ipython>=7.23.1->ipykernel->notebook->-r requirements.txt (line 9)) (0.6.2)\n",
      "Requirement already satisfied: backcall in /Users/benjacobs/miniconda3/envs/evolutionary-algorithms/lib/python3.10/site-packages (from ipython>=7.23.1->ipykernel->notebook->-r requirements.txt (line 9)) (0.2.0)\n",
      "Requirement already satisfied: pickleshare in /Users/benjacobs/miniconda3/envs/evolutionary-algorithms/lib/python3.10/site-packages (from ipython>=7.23.1->ipykernel->notebook->-r requirements.txt (line 9)) (0.7.5)\n",
      "Requirement already satisfied: pexpect>4.3 in /Users/benjacobs/miniconda3/envs/evolutionary-algorithms/lib/python3.10/site-packages (from ipython>=7.23.1->ipykernel->notebook->-r requirements.txt (line 9)) (4.8.0)\n",
      "Requirement already satisfied: decorator in /Users/benjacobs/miniconda3/envs/evolutionary-algorithms/lib/python3.10/site-packages (from ipython>=7.23.1->ipykernel->notebook->-r requirements.txt (line 9)) (5.1.1)\n",
      "Collecting attrs>=17.4.0\n",
      "  Using cached attrs-23.1.0-py3-none-any.whl (61 kB)\n",
      "Collecting pyrsistent!=0.17.0,!=0.17.1,!=0.17.2,>=0.14.0\n",
      "  Using cached pyrsistent-0.19.3-cp310-cp310-macosx_10_9_universal2.whl (82 kB)\n",
      "Collecting jupyter-server-terminals\n",
      "  Using cached jupyter_server_terminals-0.4.4-py3-none-any.whl (13 kB)\n",
      "Collecting anyio>=3.1.0\n",
      "  Using cached anyio-3.6.2-py3-none-any.whl (80 kB)\n",
      "Collecting jupyter-events>=0.4.0\n",
      "  Using cached jupyter_events-0.6.3-py3-none-any.whl (18 kB)\n",
      "Collecting websocket-client\n",
      "  Downloading websocket_client-1.5.2-py3-none-any.whl (56 kB)\n",
      "\u001b[2K     \u001b[90m━━━━━━━━━━━━━━━━━━━━━━━━━━━━━━━━━━━━━━━━\u001b[0m \u001b[32m56.6/56.6 kB\u001b[0m \u001b[31m2.1 MB/s\u001b[0m eta \u001b[36m0:00:00\u001b[0m\n",
      "\u001b[?25hCollecting cffi>=1.0.1\n",
      "  Using cached cffi-1.15.1-cp310-cp310-macosx_11_0_arm64.whl (174 kB)\n",
      "Collecting soupsieve>1.2\n",
      "  Using cached soupsieve-2.4.1-py3-none-any.whl (36 kB)\n",
      "Collecting webencodings\n",
      "  Using cached webencodings-0.5.1-py2.py3-none-any.whl (11 kB)\n",
      "Collecting sniffio>=1.1\n",
      "  Using cached sniffio-1.3.0-py3-none-any.whl (10 kB)\n",
      "Collecting idna>=2.8\n",
      "  Using cached idna-3.4-py3-none-any.whl (61 kB)\n",
      "Collecting pycparser\n",
      "  Using cached pycparser-2.21-py2.py3-none-any.whl (118 kB)\n",
      "Requirement already satisfied: parso<0.9.0,>=0.8.0 in /Users/benjacobs/miniconda3/envs/evolutionary-algorithms/lib/python3.10/site-packages (from jedi>=0.16->ipython>=7.23.1->ipykernel->notebook->-r requirements.txt (line 9)) (0.8.3)\n",
      "Collecting python-json-logger>=2.0.4\n",
      "  Downloading python_json_logger-2.0.7-py3-none-any.whl (8.1 kB)\n",
      "Collecting rfc3986-validator>=0.1.1\n",
      "  Using cached rfc3986_validator-0.1.1-py2.py3-none-any.whl (4.2 kB)\n",
      "Collecting rfc3339-validator\n",
      "  Using cached rfc3339_validator-0.1.4-py2.py3-none-any.whl (3.5 kB)\n",
      "Collecting pyyaml>=5.3\n",
      "  Using cached PyYAML-6.0-cp310-cp310-macosx_11_0_arm64.whl (173 kB)\n",
      "Requirement already satisfied: wcwidth in /Users/benjacobs/miniconda3/envs/evolutionary-algorithms/lib/python3.10/site-packages (from prompt-toolkit!=3.0.37,<3.1.0,>=3.0.30->ipython>=7.23.1->ipykernel->notebook->-r requirements.txt (line 9)) (0.2.6)\n",
      "Requirement already satisfied: asttokens>=2.1.0 in /Users/benjacobs/miniconda3/envs/evolutionary-algorithms/lib/python3.10/site-packages (from stack-data->ipython>=7.23.1->ipykernel->notebook->-r requirements.txt (line 9)) (2.2.1)\n",
      "Requirement already satisfied: pure-eval in /Users/benjacobs/miniconda3/envs/evolutionary-algorithms/lib/python3.10/site-packages (from stack-data->ipython>=7.23.1->ipykernel->notebook->-r requirements.txt (line 9)) (0.2.2)\n",
      "Requirement already satisfied: executing>=1.2.0 in /Users/benjacobs/miniconda3/envs/evolutionary-algorithms/lib/python3.10/site-packages (from stack-data->ipython>=7.23.1->ipykernel->notebook->-r requirements.txt (line 9)) (1.2.0)\n",
      "Collecting webcolors>=1.11\n",
      "  Downloading webcolors-1.13-py3-none-any.whl (14 kB)\n",
      "Collecting fqdn\n",
      "  Using cached fqdn-1.5.1-py3-none-any.whl (9.1 kB)\n",
      "Collecting isoduration\n",
      "  Using cached isoduration-20.11.0-py3-none-any.whl (11 kB)\n",
      "Collecting uri-template\n",
      "  Using cached uri_template-1.2.0-py3-none-any.whl (10 kB)\n",
      "Collecting jsonpointer>1.13\n",
      "  Using cached jsonpointer-2.3-py2.py3-none-any.whl (7.8 kB)\n",
      "Collecting arrow>=0.15.0\n",
      "  Using cached arrow-1.2.3-py3-none-any.whl (66 kB)\n",
      "Building wheels for collected packages: box2d-py\n",
      "  Building wheel for box2d-py (setup.py) ... \u001b[?25ldone\n",
      "\u001b[?25h  Created wheel for box2d-py: filename=box2d_py-2.3.5-cp310-cp310-macosx_11_0_arm64.whl size=392684 sha256=0a2f9acea974e4a4254f577eb14006eb6d8a6e61e478fa76a69d5373d9d7dfe7\n",
      "  Stored in directory: /Users/benjacobs/Library/Caches/pip/wheels/db/8f/6a/eaaadf056fba10a98d986f6dce954e6201ba3126926fc5ad9e\n",
      "Successfully built box2d-py\n",
      "Installing collected packages: webencodings, swig, pyglet, mpmath, mistune, ipython-genutils, gymnasium-notices, fastjsonschema, box2d-py, websocket-client, webcolors, uri-template, tinycss2, threadpoolctl, terminado, sympy, soupsieve, sniffio, Send2Trash, rfc3986-validator, rfc3339-validator, pyyaml, python-json-logger, pyrsistent, pyparsing, pygame, pycparser, prometheus-client, pillow, pandocfilters, numpy, networkx, markupsafe, kiwisolver, jupyterlab-pygments, jsonpointer, joblib, idna, fqdn, fonttools, filelock, defusedxml, cycler, cloudpickle, bleach, attrs, scipy, jupyter-server-terminals, jsonschema, jinja2, gymnasium, contourpy, cffi, beautifulsoup4, arrow, anyio, torch, scikit-learn, nbformat, matplotlib, isoduration, argon2-cffi-bindings, nbclient, argon2-cffi, nbconvert, jupyter-events, jupyter-server, notebook-shim, nbclassic, notebook\n",
      "Successfully installed Send2Trash-1.8.2 anyio-3.6.2 argon2-cffi-21.3.0 argon2-cffi-bindings-21.2.0 arrow-1.2.3 attrs-23.1.0 beautifulsoup4-4.12.2 bleach-6.0.0 box2d-py-2.3.5 cffi-1.15.1 cloudpickle-2.2.1 contourpy-1.0.7 cycler-0.11.0 defusedxml-0.7.1 fastjsonschema-2.17.1 filelock-3.12.0 fonttools-4.39.4 fqdn-1.5.1 gymnasium-0.26.3 gymnasium-notices-0.0.1 idna-3.4 ipython-genutils-0.2.0 isoduration-20.11.0 jinja2-3.1.2 joblib-1.2.0 jsonpointer-2.3 jsonschema-4.17.3 jupyter-events-0.6.3 jupyter-server-2.5.0 jupyter-server-terminals-0.4.4 jupyterlab-pygments-0.2.2 kiwisolver-1.4.4 markupsafe-2.1.2 matplotlib-3.7.1 mistune-2.0.5 mpmath-1.3.0 nbclassic-1.0.0 nbclient-0.8.0 nbconvert-7.4.0 nbformat-5.8.0 networkx-3.1 notebook-6.5.4 notebook-shim-0.2.3 numpy-1.24.3 pandocfilters-1.5.0 pillow-9.5.0 prometheus-client-0.16.0 pycparser-2.21 pygame-2.1.0 pyglet-1.5.21 pyparsing-3.0.9 pyrsistent-0.19.3 python-json-logger-2.0.7 pyyaml-6.0 rfc3339-validator-0.1.4 rfc3986-validator-0.1.1 scikit-learn-1.2.2 scipy-1.10.1 sniffio-1.3.0 soupsieve-2.4.1 swig-4.1.1 sympy-1.12 terminado-0.17.1 threadpoolctl-3.1.0 tinycss2-1.2.1 torch-2.0.1 uri-template-1.2.0 webcolors-1.13 webencodings-0.5.1 websocket-client-1.5.2\n"
     ]
    }
   ],
   "source": [
    "!pip install -r requirements.txt"
   ]
  },
  {
   "attachments": {},
   "cell_type": "markdown",
   "metadata": {},
   "source": [
    "## Imports\n",
    "Imports from the standard genepro-multi library are done here. Any adjustments (e.g. different operators) should be made in the notebook. For example:\n",
    "\n",
    "```\n",
    "class SmoothOperator(Node):\n",
    "  def __init__(self):\n",
    "    super(SmoothOperator,self).__init__()\n",
    "    self.arity = 1\n",
    "    self.symb = \"SmoothOperator\"\n",
    "\n",
    "  def _get_args_repr(self, args):\n",
    "    return self._get_typical_repr(args,'before')\n",
    "\n",
    "  def get_output(self, X):\n",
    "    c_outs = self._get_child_outputs(X)\n",
    "    return np.smoothOperation(c_outs[0])\n",
    "\n",
    "  def get_output_pt(self, X):\n",
    "    c_outs = self._get_child_outputs_pt(X)\n",
    "    return torch.smoothOperation(c_outs[0])\n",
    "```"
   ]
  },
  {
   "cell_type": "code",
   "execution_count": 2,
   "metadata": {},
   "outputs": [],
   "source": [
    "import gymnasium as gym\n",
    "\n",
    "from genepro.node_impl import *\n",
    "from genepro.evo import Evolution\n",
    "from genepro.node_impl import Constant\n",
    "\n",
    "import torch\n",
    "import torch.optim as optim\n",
    "\n",
    "import random\n",
    "import os\n",
    "import copy\n",
    "from collections import namedtuple, deque\n",
    "\n",
    "import matplotlib.pyplot as plt\n",
    "from matplotlib import animation"
   ]
  },
  {
   "attachments": {},
   "cell_type": "markdown",
   "metadata": {},
   "source": [
    "## Reinforcement Learning Setup\n",
    "Here we first setup the Gymnasium environment. Please see https://gymnasium.farama.org/environments/box2d/lunar_lander/ for more information on the environment. \n",
    "\n",
    "Then a memory buffer is made. This is a buffer in which state transitions are stored. When the buffer reaches its maximum capacity old transitions are replaced by new ones.\n",
    "\n",
    "A frame buffer is initialised used to later store animation frames of the environment."
   ]
  },
  {
   "cell_type": "code",
   "execution_count": 3,
   "metadata": {},
   "outputs": [],
   "source": [
    "env = gym.make(\"LunarLander-v2\", render_mode=\"rgb_array\")"
   ]
  },
  {
   "cell_type": "code",
   "execution_count": 8,
   "metadata": {},
   "outputs": [],
   "source": [
    "Transition = namedtuple('Transition', ('state', 'action', 'next_state', 'reward'))\n",
    "\n",
    "class ReplayMemory(object):\n",
    "    def __init__(self, capacity):\n",
    "        self.memory = deque([], maxlen=capacity)\n",
    "\n",
    "    def push(self, *args):\n",
    "        \"\"\"Save a transition\"\"\"\n",
    "        self.memory.append(Transition(*args))\n",
    "\n",
    "    def sample(self, batch_size):\n",
    "        return random.sample(self.memory, batch_size)\n",
    "\n",
    "    def __len__(self):\n",
    "        return len(self.memory)\n",
    "\n",
    "    def __iadd__(self, other):\n",
    "      self.memory += other.memory\n",
    "      return self \n",
    "\n",
    "    def __add__(self, other):\n",
    "      self.memory = self.memory + other.memory \n",
    "      return self"
   ]
  },
  {
   "cell_type": "code",
   "execution_count": 9,
   "metadata": {},
   "outputs": [],
   "source": [
    "frames = []"
   ]
  },
  {
   "attachments": {},
   "cell_type": "markdown",
   "metadata": {},
   "source": [
    "## Fitness Function\n",
    "\n",
    "Here you get to be creative. The default setup evaluates 5 episodes of 300 frames. Think of what action to pick and what fitness function to use. The Multi-tree takes an input of $n \\times d$ where $n$ is a batch of size 1."
   ]
  },
  {
   "cell_type": "code",
   "execution_count": 67,
   "metadata": {},
   "outputs": [],
   "source": [
    "def fitness_function_pt(multitree, num_episodes=5, episode_duration=300, render=False, ignore_done=False):\n",
    "  memory = ReplayMemory(10000)\n",
    "  rewards = []\n",
    "\n",
    "  # print(multitree.get_readable_repr())\n",
    "\n",
    "  # for _ in range(num_episodes):\n",
    "  for _ in range(1):\n",
    "    # get initial state of the environment\n",
    "    observation = env.reset()\n",
    "    observation = observation[0]\n",
    "    \n",
    "    for _ in range(episode_duration):\n",
    "      if render:\n",
    "        frames.append(env.render())\n",
    "\n",
    "      input_sample = torch.from_numpy(observation.reshape((1,-1))).float()\n",
    "      \n",
    "      # what goes here? TODO\n",
    "      action = torch.argmax(multitree.get_output_pt(input_sample)).detach()\n",
    "      observation, reward, terminated, truncated, info = env.step(action.item())\n",
    "      rewards.append(reward)\n",
    "      output_sample = torch.from_numpy(observation.reshape((1,-1))).float()\n",
    "      memory.push(input_sample, torch.tensor([[action.item()]]), output_sample, torch.tensor([reward]))\n",
    "      if (terminated or truncated) and not ignore_done:\n",
    "        break\n",
    "\n",
    "  fitness = np.sum(rewards)\n",
    "  \n",
    "  return fitness, memory"
   ]
  },
  {
   "attachments": {},
   "cell_type": "markdown",
   "metadata": {},
   "source": [
    "## Evolution Setup\n",
    "Here the leaf and internal nodes are defined. Think about the odds of sampling a constant in this default configurations. Also think about any operators that could be useful and add them here. \n",
    "\n",
    "Adjust the population size (multiple of 8 if you want to use the standard tournament selection), max generations and max tree size to taste. Be aware that each of these settings can increase the runtime."
   ]
  },
  {
   "cell_type": "code",
   "execution_count": 68,
   "metadata": {},
   "outputs": [],
   "source": [
    "num_features = env.observation_space.shape[0]\n",
    "leaf_nodes = [Feature(i) for i in range(num_features)]\n",
    "leaf_nodes = leaf_nodes + [Constant()] # Think about the probability of sampling a coefficient\n",
    "internal_nodes = [Plus(),Minus(),Times(),Div()] #Add your own operators here\n",
    "\n",
    "evo = Evolution(\n",
    "  fitness_function_pt, internal_nodes, leaf_nodes,\n",
    "  4,\n",
    "  pop_size=16,\n",
    "  max_gens=10,\n",
    "  max_tree_size=31,\n",
    "  n_jobs=8,\n",
    "  verbose=True)"
   ]
  },
  {
   "attachments": {},
   "cell_type": "markdown",
   "metadata": {},
   "source": [
    "## Evolve\n",
    "Running this cell will use all the settings above as parameters"
   ]
  },
  {
   "cell_type": "code",
   "execution_count": 69,
   "metadata": {},
   "outputs": [
    {
     "name": "stdout",
     "output_type": "stream",
     "text": [
      "gen: 1,\tbest of gen fitness: -85.266,\tbest of gen size: 31\n",
      "gen: 2,\tbest of gen fitness: -129.809,\tbest of gen size: 27\n",
      "gen: 3,\tbest of gen fitness: -107.634,\tbest of gen size: 25\n",
      "gen: 4,\tbest of gen fitness: -84.153,\tbest of gen size: 25\n",
      "gen: 5,\tbest of gen fitness: -62.603,\tbest of gen size: 25\n",
      "gen: 6,\tbest of gen fitness: -61.587,\tbest of gen size: 25\n",
      "gen: 7,\tbest of gen fitness: 31.393,\tbest of gen size: 25\n",
      "gen: 8,\tbest of gen fitness: -101.462,\tbest of gen size: 25\n",
      "gen: 9,\tbest of gen fitness: 13.625,\tbest of gen size: 25\n",
      "gen: 10,\tbest of gen fitness: -117.619,\tbest of gen size: 31\n"
     ]
    }
   ],
   "source": [
    "evo.evolve()"
   ]
  },
  {
   "attachments": {},
   "cell_type": "markdown",
   "metadata": {},
   "source": [
    "# Test"
   ]
  },
  {
   "cell_type": "code",
   "execution_count": 70,
   "metadata": {},
   "outputs": [
    {
     "name": "stdout",
     "output_type": "stream",
     "text": [
      "['((x_4*((1.7882741689682007-0.9851505756378174)*x_2))/((4.947760581970215--1.0094207525253296)*x_2))', '((((x_4/(-3.7570552825927734+-4.335709095001221))*((x_4+-1.387381672859192)-x_6))-((x_7*(x_1+x_5))*(-1.4693702459335327+x_6)))-((x_4/x_5)*(x_2-(0.7528619170188904-x_6))))', '(x_6-x_7)', '((((x_3-x_7)*x_1)/((x_3*x_4)+(x_1+x_0)))*((-0.42203661799430847-(x_7*x_7))*((x_6-x_7)*x_1)))']\n",
      "-6426.137934343253\n"
     ]
    }
   ],
   "source": [
    "def get_test_score(tree):\n",
    "    rewards = []\n",
    "\n",
    "    for i in range(10):\n",
    "      # get initial state\n",
    "      observation = env.reset(seed=i)\n",
    "      observation = observation[0]\n",
    "\n",
    "      for _ in range(500):    \n",
    "        # build up the input sample for GP\n",
    "        input_sample = torch.from_numpy(observation.reshape((1,-1))).float()\n",
    "        # get output (squeezing because it is encapsulated in an array)\n",
    "        output = tree.get_output_pt(input_sample)\n",
    "        action = torch.argmax(output)\n",
    "        observation, reward, terminated, truncated, info = env.step(action.item())\n",
    "        rewards.append(reward)\n",
    "\n",
    "\n",
    "        output_sample = torch.from_numpy(observation.reshape((1,-1))).float()\n",
    "        if (terminated or truncated):\n",
    "            break\n",
    "\n",
    "    fitness = np.sum(rewards)\n",
    "    \n",
    "    return fitness\n",
    "\n",
    "best = evo.best_of_gens[-1]\n",
    "\n",
    "print(best.get_readable_repr())\n",
    "print(get_test_score(best))"
   ]
  },
  {
   "attachments": {},
   "cell_type": "markdown",
   "metadata": {},
   "source": [
    "## Make an animation\n",
    "Here the best evolved individual is selected and one episode is rendered. Make sure to save your lunar landers over time to track progress and make comparisons."
   ]
  },
  {
   "cell_type": "code",
   "execution_count": 72,
   "metadata": {},
   "outputs": [
    {
     "name": "stderr",
     "output_type": "stream",
     "text": [
      "MovieWriter imagemagick unavailable; using Pillow instead.\n"
     ]
    },
    {
     "data": {
      "image/png": "[encoded data removed]",
      "text/plain": [
       "<Figure size 600x400 with 1 Axes>"
      ]
     },
     "metadata": {},
     "output_type": "display_data"
    }
   ],
   "source": [
    "frames = []\n",
    "\n",
    "# gist to save gif from https://gist.github.com/botforge/64cbb71780e6208172bbf03cd9293553\n",
    "def save_frames_as_gif(frames, path='./', filename='evolved_lander.gif'):\n",
    "  plt.figure(figsize=(frames[0].shape[1] / 72.0, frames[0].shape[0] / 72.0), dpi=72)\n",
    "  patch = plt.imshow(frames[0])\n",
    "  plt.axis('off')\n",
    "  def animate(i):\n",
    "      patch.set_data(frames[i])\n",
    "  anim = animation.FuncAnimation(plt.gcf(), animate, frames = len(frames), interval=50)\n",
    "  anim.save(path + filename, writer='imagemagick', fps=60)\n",
    "\n",
    "frames = []\n",
    "fitness_function_pt(best, num_episodes=1, episode_duration=500, render=True, ignore_done=False)\n",
    "env.close()\n",
    "save_frames_as_gif(frames)"
   ]
  },
  {
   "attachments": {},
   "cell_type": "markdown",
   "metadata": {},
   "source": [
    "## Play animation"
   ]
  },
  {
   "attachments": {},
   "cell_type": "markdown",
   "metadata": {},
   "source": [
    "<img src=\"evolved_lander.gif\" width=\"750\">"
   ]
  },
  {
   "attachments": {},
   "cell_type": "markdown",
   "metadata": {},
   "source": [
    "## Optimisation\n",
    "The coefficients in the multi-tree aren't optimised. Here Q-learning (taken from https://pytorch.org/tutorials/intermediate/reinforcement_q_learning.html) is used to optimise the weights further. Incorporate coefficient optimisation in training your agent(s). Coefficient Optimisation can be expensive. Think about how often you want to optimise, when, which individuals etc."
   ]
  },
  {
   "cell_type": "code",
   "execution_count": 73,
   "metadata": {},
   "outputs": [
    {
     "name": "stdout",
     "output_type": "stream",
     "text": [
      "['((x_4*((1.7882741689682007-0.9851505756378174)*x_2))/((4.947760581970215--1.0094207525253296)*x_2))', '((((x_4/(-3.7570552825927734+-4.335709095001221))*((x_4+-1.387381672859192)-x_6))-((x_7*(x_1+x_5))*(-1.4693702459335327+x_6)))-((x_4/x_5)*(x_2-(0.7528619170188904-x_6))))', '(x_6-x_7)', '((((x_3-x_7)*x_1)/((x_3*x_4)+(x_1+x_0)))*((-0.42203661799430847-(x_7*x_7))*((x_6-x_7)*x_1)))']\n",
      "-6494.763041691816\n"
     ]
    }
   ],
   "source": [
    "batch_size = 128\n",
    "GAMMA = 0.99\n",
    "\n",
    "constants = best.get_subtrees_consts()\n",
    "\n",
    "if len(constants)>0:\n",
    "  optimizer = optim.AdamW(constants, lr=1e-3, amsgrad=True)\n",
    "\n",
    "for _ in range(500):\n",
    "\n",
    "  if len(constants)>0 and len(evo.memory)>batch_size:\n",
    "    target_tree = copy.deepcopy(best)\n",
    "\n",
    "    transitions = evo.memory.sample(batch_size)\n",
    "    batch = Transition(*zip(*transitions))\n",
    "    \n",
    "    non_final_mask = torch.tensor(tuple(map(lambda s: s is not None,\n",
    "                                        batch.next_state)), dtype=torch.bool)\n",
    "\n",
    "    non_final_next_states = torch.cat([s for s in batch.next_state\n",
    "                                               if s is not None])\n",
    "    state_batch = torch.cat(batch.state)\n",
    "    action_batch = torch.cat(batch.action)\n",
    "    reward_batch = torch.cat(batch.reward)\n",
    "\n",
    "    state_action_values = best.get_output_pt(state_batch).gather(1, action_batch)\n",
    "    next_state_values = torch.zeros(batch_size, dtype=torch.float)\n",
    "    with torch.no_grad():\n",
    "      next_state_values[non_final_mask] = target_tree.get_output_pt(non_final_next_states).max(1)[0].float()\n",
    "\n",
    "    expected_state_action_values = (next_state_values * GAMMA) + reward_batch\n",
    "    \n",
    "    criterion = nn.SmoothL1Loss()\n",
    "    loss = criterion(state_action_values, expected_state_action_values.unsqueeze(1))\n",
    "   \n",
    "    # Optimize the model\n",
    "    optimizer.zero_grad()\n",
    "    loss.backward()\n",
    "    torch.nn.utils.clip_grad_value_(constants, 100)\n",
    "    optimizer.step()\n",
    "\n",
    "print(best.get_readable_repr())\n",
    "print(get_test_score(best))"
   ]
  },
  {
   "cell_type": "code",
   "execution_count": 61,
   "metadata": {},
   "outputs": [
    {
     "data": {
      "image/png": "[encoded data removed]",
      "text/plain": [
       "<Figure size 600x400 with 1 Axes>"
      ]
     },
     "metadata": {
      "needs_background": "light"
     },
     "output_type": "display_data"
    }
   ],
   "source": [
    "frames = []\n",
    "fitness_function_pt(best, num_episodes=1, episode_duration=500, render=True, ignore_done=False)\n",
    "env.close()\n",
    "save_frames_as_gif(frames, filename='evolved_lander_RL.gif')"
   ]
  },
  {
   "attachments": {},
   "cell_type": "markdown",
   "metadata": {},
   "source": [
    "<img src=\"evolved_lander_RL.gif\" width=\"750\">"
   ]
  },
  {
   "cell_type": "code",
   "execution_count": null,
   "metadata": {},
   "outputs": [],
   "source": []
  },
  {
   "cell_type": "code",
   "execution_count": null,
   "metadata": {},
   "outputs": [],
   "source": []
  }
 ],
 "metadata": {
  "kernelspec": {
   "display_name": "Python 3 (ipykernel)",
   "language": "python",
   "name": "python3"
  },
  "language_info": {
   "codemirror_mode": {
    "name": "ipython",
    "version": 3
   },
   "file_extension": ".py",
   "mimetype": "text/x-python",
   "name": "python",
   "nbconvert_exporter": "python",
   "pygments_lexer": "ipython3",
   "version": "3.10.11"
  }
 },
 "nbformat": 4,
 "nbformat_minor": 4
}
