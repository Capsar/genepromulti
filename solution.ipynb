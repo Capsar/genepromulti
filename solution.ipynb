{
 "cells": [
  {
   "cell_type": "markdown",
   "metadata": {},
   "source": [
    "# Evolving a Lunar Lander with differentiable Genetic Programming"
   ]
  },
  {
   "cell_type": "markdown",
   "metadata": {},
   "source": [
    "## Installation\n",
    "To install the required libraries run the command:"
   ]
  },
  {
   "cell_type": "code",
   "execution_count": 1,
   "metadata": {},
   "outputs": [],
   "source": [
    "#!pip install -r requirements.txt"
   ]
  },
  {
   "cell_type": "markdown",
   "metadata": {},
   "source": [
    "\n",
    "Imports from the standard genepro-multi library are done here. Any adjustments (e.g. different operators) should be made in the notebook. For example:\n",
    "\n",
    "```\n",
    "class SmoothOperator(Node):\n",
    "  def __init__(self):\n",
    "    super(SmoothOperator,self).__init__()\n",
    "    self.arity = 1\n",
    "    self.symb = \"SmoothOperator\"\n",
    "\n",
    "  def _get_args_repr(self, args):\n",
    "    return self._get_typical_repr(args,'before')\n",
    "\n",
    "  def get_output(self, X):\n",
    "    c_outs = self._get_child_outputs(X)\n",
    "    return np.smoothOperation(c_outs[0])\n",
    "\n",
    "  def get_output_pt(self, X):\n",
    "    c_outs = self._get_child_outputs_pt(X)\n",
    "    return torch.smoothOperation(c_outs[0])\n",
    "```"
   ]
  },
  {
   "cell_type": "code",
   "execution_count": 1,
   "metadata": {},
   "outputs": [],
   "source": [
    "import gymnasium as gym\n",
    "\n",
    "from genepro.node_impl import *\n",
    "from genepro.evo import Evolution\n",
    "from genepro.node_impl import Constant\n",
    "\n",
    "import torch\n",
    "import torch.optim as optim\n",
    "\n",
    "import random\n",
    "import os\n",
    "import copy\n",
    "from collections import namedtuple, deque\n",
    "\n",
    "import matplotlib.pyplot as plt\n",
    "from matplotlib import animation"
   ]
  },
  {
   "cell_type": "markdown",
   "metadata": {},
   "source": [
    "## Reinforcement Learning Setup\n",
    "Here we first setup the Gymnasium environment. Please see https://gymnasium.farama.org/environments/box2d/lunar_lander/ for more information on the environment. \n",
    "\n",
    "Then a memory buffer is made. This is a buffer in which state transitions are stored. When the buffer reaches its maximum capacity old transitions are replaced by new ones.\n",
    "\n",
    "A frame buffer is initialised used to later store animation frames of the environment."
   ]
  },
  {
   "cell_type": "code",
   "execution_count": 2,
   "metadata": {},
   "outputs": [],
   "source": [
    "env = gym.make(\"LunarLander-v2\", render_mode=\"rgb_array\")"
   ]
  },
  {
   "cell_type": "code",
   "execution_count": 3,
   "metadata": {},
   "outputs": [],
   "source": [
    "Transition = namedtuple(\"Transition\", (\"state\", \"action\", \"next_state\", \"reward\"))\n",
    "\n",
    "\n",
    "class ReplayMemory(object):\n",
    "    def __init__(self, capacity):\n",
    "        self.memory = deque([], maxlen=capacity)\n",
    "\n",
    "    def push(self, *args):\n",
    "        \"\"\"Save a transition\"\"\"\n",
    "        self.memory.append(Transition(*args))\n",
    "\n",
    "    def sample(self, batch_size):\n",
    "        return random.sample(self.memory, batch_size)\n",
    "\n",
    "    def __len__(self):\n",
    "        return len(self.memory)\n",
    "\n",
    "    def __iadd__(self, other):\n",
    "        self.memory += other.memory\n",
    "        return self\n",
    "\n",
    "    def __add__(self, other):\n",
    "        self.memory = self.memory + other.memory\n",
    "        return self"
   ]
  },
  {
   "cell_type": "markdown",
   "metadata": {},
   "source": [
    "## Fitness Function\n",
    "\n",
    "Here you get to be creative. The default setup evaluates 5 episodes of 300 frames. Think of what action to pick and what fitness function to use. The Multi-tree takes an input of $n \\times d$ where $n$ is a batch of size 1."
   ]
  },
  {
   "cell_type": "code",
   "execution_count": 4,
   "metadata": {},
   "outputs": [],
   "source": [
    "def fitness_function_pt(multitree, num_episodes=5, episode_duration=300, ignore_done=False, render=False):\n",
    "    memory = ReplayMemory(10000)\n",
    "    episode_rewards = []\n",
    "    if render:\n",
    "        frames = []\n",
    "\n",
    "    # print(multitree.get_readable_repr())\n",
    "    for _ in range(num_episodes):\n",
    "        # get initial state of the environment\n",
    "        observation = env.reset()\n",
    "        observation = observation[0]\n",
    "        rewards = []\n",
    "        for _ in range(episode_duration):\n",
    "            if render:\n",
    "                frames.append(env.render())\n",
    "            input_sample = torch.from_numpy(observation.reshape((1, -1))).float()\n",
    "            action = torch.argmax(multitree.get_output_pt(input_sample)).detach()\n",
    "            observation, reward, terminated, truncated, info = env.step(action.item())\n",
    "            rewards.append(reward)\n",
    "            output_sample = torch.from_numpy(observation.reshape((1, -1))).float()\n",
    "            memory.push(input_sample, torch.tensor([[action.item()]]), output_sample, torch.tensor([reward]))\n",
    "            if (terminated or truncated) and not ignore_done:\n",
    "                break\n",
    "        episode_rewards.append(np.sum(rewards))\n",
    "\n",
    "    # Get the average reward over all episodes\n",
    "    fitness = episode_rewards\n",
    "    if render:\n",
    "        return fitness, memory, frames\n",
    "    return fitness, memory\n",
    "\n",
    "def rollout_function(multitree, num_episodes=5, episode_duration=300, ignore_done=False, render=False):\n",
    "    env = gym.make(\"LunarLander-v2\", render_mode=\"rgb_array\")\n",
    "\n",
    "    episode_rewards = []\n",
    "    if render:\n",
    "        frames = []\n",
    "\n",
    "    for _ in range(num_episodes):\n",
    "        # get initial state of the environment\n",
    "        observation = env.reset()\n",
    "        observation = observation[0]\n",
    "        rewards = []\n",
    "        for _ in range(episode_duration):\n",
    "            if render:\n",
    "                frames.append(env.render())\n",
    "            input_sample = observation.reshape((1, -1))\n",
    "            action = np.argmax(multitree.get_output(input_sample))\n",
    "            observation, reward, terminated, truncated, info = env.step(action.item())\n",
    "            rewards.append(reward)\n",
    "            if (terminated or truncated) and not ignore_done:\n",
    "                break\n",
    "        episode_rewards.append(np.sum(rewards))\n",
    "\n",
    "    # Get the average reward over all episodes\n",
    "    episode_rewards = np.array(episode_rewards)\n",
    "    if render:\n",
    "        return episode_rewards, [], frames\n",
    "    return episode_rewards, []\n",
    "\n",
    "def fitness_baseline(episode_rewards, pop):\n",
    "    return np.mean(episode_rewards)\n",
    "\n",
    "def fitness_function_mean_len_sqrt_std(episode_rewards, pop):\n",
    "    return np.mean(episode_rewards) - len(pop) - np.std(episode_rewards)**0.5\n",
    "\n",
    "def fitness_function_mean_len_std(episode_rewards, pop):\n",
    "    return np.mean(episode_rewards) - len(pop) - np.std(episode_rewards)"
   ]
  },
  {
   "cell_type": "markdown",
   "metadata": {},
   "source": [
    "## Fitness function: symmetric approach\n",
    "\n",
    "For the side-correction thruster symmetry we will be using the same tree for the side thrusters. The only difference between the right and left thruster trees will be that some feature nodes that correspond with symmetry are inverted as follows:\n",
    "\n",
    "f(2)  \n",
    "$\\to$  \n",
    "```\n",
    "   *\n",
    "  / \\\n",
    "-1   f(2) \n",
    "```"
   ]
  },
  {
   "cell_type": "code",
   "execution_count": 5,
   "metadata": {},
   "outputs": [],
   "source": [
    "from copy import deepcopy\n",
    "from genepro.thruster_symmetry import traverse_and_invert, traverse_and_invert_iter\n",
    "\n",
    "\n",
    "def rollout_function_symmetry(multitree, num_episodes=5, episode_duration=300, ignore_done=False, render=False):\n",
    "    env = gym.make(\"LunarLander-v2\", render_mode=\"rgb_array\")\n",
    "\n",
    "    episode_rewards = []\n",
    "    if render:\n",
    "        frames = []\n",
    "\n",
    "    for _ in range(num_episodes):\n",
    "        # get initial state of the environment\n",
    "        observation = env.reset()\n",
    "        observation = observation[0]\n",
    "        rewards = []\n",
    "        for _ in range(episode_duration):\n",
    "            if render:\n",
    "                frames.append(env.render())\n",
    "            input_sample = observation.reshape((1, -1))\n",
    "            \n",
    "            # here, we generate the right thruster tree using the left thruster tree\n",
    "            left_thruster_tree = deepcopy(multitree.children[1])\n",
    "            right_thruster_tree = traverse_and_invert_iter(left_thruster_tree, feature_ids = [0,2,4,5,6,7])\n",
    "            \n",
    "            # right_thruster_tree = left_thruster_tree\n",
    "            \n",
    "            outputs = multitree.get_output(input_sample)\n",
    "            outputs = np.append(outputs, right_thruster_tree.get_output(input_sample))\n",
    "            \n",
    "            action = np.argmax(outputs)\n",
    "            observation, reward, terminated, truncated, info = env.step(action.item())\n",
    "            rewards.append(reward)\n",
    "            if (terminated or truncated) and not ignore_done:\n",
    "                break\n",
    "        episode_rewards.append(np.sum(rewards))\n",
    "\n",
    "    # Get the average reward over all episodes\n",
    "    episode_rewards = np.array(episode_rewards)\n",
    "    if render:\n",
    "        return episode_rewards, [], frames\n",
    "    return episode_rewards, []"
   ]
  },
  {
   "cell_type": "code",
   "execution_count": 6,
   "metadata": {},
   "outputs": [],
   "source": [
    "### USED TO STORE THE EXPERIMENT DICTIONARY\n",
    "import inspect\n",
    "import itertools\n",
    "import pickle\n",
    "\n",
    "\n",
    "def serialize_functions_in_dict(dictionary):\n",
    "    for key, value in dictionary.items():\n",
    "        if inspect.isfunction(value) or inspect.ismethod(value):\n",
    "            dictionary[key] = value.__name__\n",
    "        elif isinstance(value, list):\n",
    "            for i, item in enumerate(value):\n",
    "                if isinstance(item, dict):\n",
    "                    value[i] = serialize_functions_in_dict(item)\n",
    "                elif inspect.isfunction(item) or inspect.ismethod(item):\n",
    "                    value[i] = item.__name__\n",
    "                elif isinstance(item, Node):\n",
    "                    value[i] = item.symb\n",
    "        elif isinstance(value, dict):\n",
    "            dictionary[key] = serialize_functions_in_dict(value)\n",
    "    return dictionary\n",
    "\n",
    "### USED TO CREATE THE EXPERIMENT DICTIONARY\n",
    "def grid_search_params(params_dict):\n",
    "    \"\"\"\n",
    "    Given a dictionary of hyperparameters, if a value is a list, loop over all values\n",
    "    and create a grid search.\n",
    "    \"\"\"\n",
    "    param_keys = params_dict.keys()\n",
    "    param_values = params_dict.values()\n",
    "    param_combinations = list(itertools.product(*[v if isinstance(v, list) else [v] for v in param_values]))\n",
    "    for combination in param_combinations:\n",
    "        yield dict(zip(param_keys, combination))"
   ]
  },
  {
   "cell_type": "code",
   "execution_count": 7,
   "metadata": {},
   "outputs": [],
   "source": [
    "# Save the gen as a pickle file in the gens folder\n",
    "def save_and_evaluate_evo_generations(evo, rollout_function, experiment_name, num_episodes=10):\n",
    "    generation_evo_fitnesses = []\n",
    "    generation_test_fitnesses = []\n",
    "    for i, gen in enumerate(evo.best_of_gens):\n",
    "        if i == 0:\n",
    "            continue\n",
    "\n",
    "        episode_rewards, _ = rollout_function(gen, num_episodes=num_episodes)\n",
    "        evo_fitness_mean, evo_fitness_std = round(np.mean(gen.fitnesses), 3), round(np.std(gen.fitnesses), 3)\n",
    "        test_fitness_mean, test_fitness_std  = round(np.mean(episode_rewards), 3), round(np.std(episode_rewards), 3)\n",
    "        print(f\"Best of Generation {i}: evo fitness:{evo_fitness_mean}+/-{evo_fitness_std} \\t test_fitness:{test_fitness_mean}+/-{test_fitness_std}\")\n",
    "        \n",
    "        generation_evo_fitnesses.append(gen.fitnesses)\n",
    "        generation_test_fitnesses.append(episode_rewards)\n",
    "        # create the gens folder if it doesn't exist\n",
    "        os.makedirs(f\"./experiments/{experiment_name}/gen/\", exist_ok=True) \n",
    "        with open(f\"./experiments/{experiment_name}/gen/gen_{i}_{evo_fitness_mean}_{test_fitness_mean}.pickle\", \"wb\") as f:\n",
    "            pickle.dump(gen, f)\n",
    "\n",
    "    np.save(f\"./experiments/{experiment_name}/generation_evo_fitnesses.npy\", generation_evo_fitnesses)\n",
    "    np.save(f\"./experiments/{experiment_name}/generation_test_fitnesses.npy\", generation_test_fitnesses)   \n",
    "    return generation_evo_fitnesses, generation_test_fitnesses\n",
    "\n",
    "def plot_evo_test_fitnesses(evo_fitnesses, test_fitnesses, experiment_name):\n",
    "    fig, ax = plt.subplots(figsize=(12, 8))\n",
    "    ax.set_title(f\"Fitnesses: {experiment_name}\")\n",
    "    ax.set_xlabel(\"Generation\")\n",
    "    ax.set_ylabel(\"Fitness\")\n",
    "    ax.plot(np.arange(len(evo_fitnesses)), [np.mean(gen) for gen in evo_fitnesses], label=\"evo_fitness\", color='tab:blue')\n",
    "    ax.fill_between(np.arange(len(evo_fitnesses)), [np.mean(gen) - np.std(gen) for gen in evo_fitnesses], [np.mean(gen) + np.std(gen) for gen in evo_fitnesses], alpha=0.2, color='tab:blue')\n",
    "    ax.plot(np.arange(len(test_fitnesses)), [np.mean(gen) for gen in test_fitnesses], label=\"test_fitness\", color='tab:orange')\n",
    "    ax.fill_between(np.arange(len(test_fitnesses)), [np.mean(gen) - np.std(gen) for gen in test_fitnesses], [np.mean(gen) + np.std(gen) for gen in test_fitnesses], alpha=0.2, color='tab:orange')\n",
    "    ax.legend()\n",
    "    plt.savefig(f\"./experiments/{experiment_name}/{experiment_name}.png\")\n",
    "    plt.close()"
   ]
  },
  {
   "cell_type": "markdown",
   "metadata": {},
   "source": [
    "## Evolution Setup\n",
    "Here the leaf and internal nodes are defined. Think about the odds of sampling a constant in this default configurations. Also think about any operators that could be useful and add them here. \n",
    "\n",
    "Adjust the population size (multiple of 8 if you want to use the standard tournament selection), max generations and max tree size to taste. Be aware that each of these settings can increase the runtime."
   ]
  },
  {
   "cell_type": "markdown",
   "metadata": {},
   "source": [
    "#### BASELINE"
   ]
  },
  {
   "cell_type": "code",
   "execution_count": null,
   "metadata": {
    "scrolled": true,
    "tags": []
   },
   "outputs": [
    {
     "name": "stdout",
     "output_type": "stream",
     "text": [
      "{'rollout_function': 'rollout_function_symmetry', 'fitness_function': 'fitness_baseline', 'internal_nodes': ['+', '*', '/', 'sin', 'sqrt', '**2'], 'leaf_nodes': ['x_0', 'x_1', 'x_2', 'x_3', 'x_4', 'x_5', 'x_6', 'x_7', 'const?'], 'n_trees': 3, 'pop_size': 32, 'max_gens': 500, 'init_max_depth': 4, 'max_tree_size': 32, 'crossovers': [{'fun': 'subtree_crossover', 'rate': 0.5}], 'mutations': [{'fun': 'subtree_mutation', 'rate': 0.5}], 'coeff_opts': [{'fun': 'coeff_mutation', 'rate': 0.5}], 'selection': {'fun': 'tournament_selection', 'kwargs': {'tournament_size': 4}}, 'n_jobs': 8, 'verbose': True}\n",
      "gen: 1 (27.5s),\tbest of gen fitness: -78.105; reward:-78.105+/-23.402,\tbest of gen size: 27\n"
     ]
    },
    {
     "name": "stderr",
     "output_type": "stream",
     "text": [
      "/home/marijn/Documents/genepromulti/genepro/node_impl.py:97: RuntimeWarning: overflow encountered in square\n",
      "  return c_outs[0]**2\n"
     ]
    },
    {
     "name": "stdout",
     "output_type": "stream",
     "text": [
      "gen: 2 (43.4s),\tbest of gen fitness: -69.887; reward:-69.887+/-30.413,\tbest of gen size: 31\n"
     ]
    },
    {
     "name": "stderr",
     "output_type": "stream",
     "text": [
      "/home/marijn/Documents/genepromulti/genepro/node_impl.py:97: RuntimeWarning: overflow encountered in square\n",
      "  return c_outs[0]**2\n",
      "/home/marijn/Documents/genepromulti/genepro/node_impl.py:97: RuntimeWarning: overflow encountered in square\n",
      "  return c_outs[0]**2\n"
     ]
    },
    {
     "name": "stdout",
     "output_type": "stream",
     "text": [
      "gen: 3 (56.6s),\tbest of gen fitness: -62.321; reward:-62.321+/-15.331,\tbest of gen size: 24\n"
     ]
    },
    {
     "name": "stderr",
     "output_type": "stream",
     "text": [
      "/home/marijn/Documents/genepromulti/genepro/node_impl.py:97: RuntimeWarning: overflow encountered in square\n",
      "  return c_outs[0]**2\n",
      "/home/marijn/Documents/genepromulti/genepro/node_impl.py:97: RuntimeWarning: overflow encountered in square\n",
      "  return c_outs[0]**2\n"
     ]
    },
    {
     "name": "stdout",
     "output_type": "stream",
     "text": [
      "gen: 4 (74.7s),\tbest of gen fitness: -91.030; reward:-91.030+/-47.481,\tbest of gen size: 27\n",
      "gen: 5 (95.5s),\tbest of gen fitness: -60.172; reward:-60.172+/-31.826,\tbest of gen size: 17\n",
      "gen: 6 (113.4s),\tbest of gen fitness: -63.642; reward:-63.642+/-50.560,\tbest of gen size: 25\n",
      "gen: 7 (133.2s),\tbest of gen fitness: -69.977; reward:-69.977+/-33.756,\tbest of gen size: 25\n",
      "gen: 8 (156.3s),\tbest of gen fitness: -41.344; reward:-41.344+/-59.398,\tbest of gen size: 25\n",
      "gen: 9 (177.2s),\tbest of gen fitness: -53.541; reward:-53.541+/-29.108,\tbest of gen size: 32\n",
      "gen: 10 (205.1s),\tbest of gen fitness: -76.113; reward:-76.113+/-26.745,\tbest of gen size: 32\n",
      "gen: 11 (226.0s),\tbest of gen fitness: -76.927; reward:-76.927+/-19.001,\tbest of gen size: 32\n",
      "gen: 12 (246.8s),\tbest of gen fitness: -28.136; reward:-28.136+/-37.105,\tbest of gen size: 32\n",
      "gen: 13 (274.4s),\tbest of gen fitness: -58.791; reward:-58.791+/-99.663,\tbest of gen size: 32\n",
      "gen: 14 (298.8s),\tbest of gen fitness: -63.391; reward:-63.391+/-78.391,\tbest of gen size: 32\n",
      "gen: 15 (328.4s),\tbest of gen fitness: -65.731; reward:-65.731+/-47.073,\tbest of gen size: 32\n",
      "gen: 16 (351.2s),\tbest of gen fitness: -46.587; reward:-46.587+/-127.219,\tbest of gen size: 32\n",
      "gen: 17 (379.0s),\tbest of gen fitness: -66.629; reward:-66.629+/-36.811,\tbest of gen size: 29\n",
      "gen: 18 (403.2s),\tbest of gen fitness: -59.396; reward:-59.396+/-39.826,\tbest of gen size: 32\n",
      "gen: 19 (430.1s),\tbest of gen fitness: -58.454; reward:-58.454+/-56.476,\tbest of gen size: 32\n",
      "gen: 20 (454.4s),\tbest of gen fitness: -55.725; reward:-55.725+/-21.994,\tbest of gen size: 32\n",
      "gen: 21 (478.6s),\tbest of gen fitness: -52.200; reward:-52.200+/-38.442,\tbest of gen size: 32\n",
      "gen: 22 (501.5s),\tbest of gen fitness: -65.279; reward:-65.279+/-39.569,\tbest of gen size: 32\n",
      "gen: 23 (527.7s),\tbest of gen fitness: -66.249; reward:-66.249+/-37.832,\tbest of gen size: 32\n",
      "gen: 24 (554.4s),\tbest of gen fitness: -40.625; reward:-40.625+/-26.537,\tbest of gen size: 32\n",
      "gen: 25 (577.4s),\tbest of gen fitness: -78.844; reward:-78.844+/-28.256,\tbest of gen size: 32\n",
      "gen: 26 (602.6s),\tbest of gen fitness: -29.336; reward:-29.336+/-94.609,\tbest of gen size: 32\n",
      "gen: 27 (627.9s),\tbest of gen fitness: -64.333; reward:-64.333+/-45.236,\tbest of gen size: 32\n",
      "gen: 28 (654.0s),\tbest of gen fitness: -61.769; reward:-61.769+/-37.614,\tbest of gen size: 21\n",
      "gen: 29 (677.8s),\tbest of gen fitness: -46.162; reward:-46.162+/-21.335,\tbest of gen size: 31\n",
      "gen: 30 (703.6s),\tbest of gen fitness: -30.990; reward:-30.990+/-52.839,\tbest of gen size: 32\n",
      "gen: 31 (725.1s),\tbest of gen fitness: -51.667; reward:-51.667+/-53.126,\tbest of gen size: 32\n",
      "gen: 32 (746.9s),\tbest of gen fitness: -62.479; reward:-62.479+/-29.425,\tbest of gen size: 22\n",
      "gen: 33 (764.4s),\tbest of gen fitness: -68.835; reward:-68.835+/-32.258,\tbest of gen size: 23\n",
      "gen: 34 (780.8s),\tbest of gen fitness: -47.799; reward:-47.799+/-23.516,\tbest of gen size: 32\n",
      "gen: 35 (794.7s),\tbest of gen fitness: -49.749; reward:-49.749+/-49.320,\tbest of gen size: 23\n",
      "gen: 36 (809.3s),\tbest of gen fitness: -54.986; reward:-54.986+/-42.405,\tbest of gen size: 23\n",
      "gen: 37 (826.9s),\tbest of gen fitness: -35.801; reward:-35.801+/-47.799,\tbest of gen size: 25\n",
      "gen: 38 (844.2s),\tbest of gen fitness: -65.086; reward:-65.086+/-33.772,\tbest of gen size: 29\n",
      "gen: 39 (866.0s),\tbest of gen fitness: -41.336; reward:-41.336+/-138.667,\tbest of gen size: 22\n",
      "gen: 40 (883.9s),\tbest of gen fitness: -66.500; reward:-66.500+/-24.300,\tbest of gen size: 31\n",
      "gen: 41 (902.9s),\tbest of gen fitness: -60.888; reward:-60.888+/-22.347,\tbest of gen size: 20\n",
      "gen: 42 (923.2s),\tbest of gen fitness: -48.783; reward:-48.783+/-49.579,\tbest of gen size: 25\n",
      "gen: 43 (942.6s),\tbest of gen fitness: -35.361; reward:-35.361+/-44.264,\tbest of gen size: 25\n",
      "gen: 44 (961.9s),\tbest of gen fitness: -54.281; reward:-54.281+/-67.795,\tbest of gen size: 24\n",
      "gen: 45 (982.6s),\tbest of gen fitness: -38.084; reward:-38.084+/-58.006,\tbest of gen size: 24\n",
      "gen: 46 (1004.1s),\tbest of gen fitness: -42.288; reward:-42.288+/-60.454,\tbest of gen size: 27\n",
      "gen: 47 (1027.8s),\tbest of gen fitness: -34.781; reward:-34.781+/-41.281,\tbest of gen size: 27\n",
      "gen: 48 (1048.2s),\tbest of gen fitness: -22.317; reward:-22.317+/-91.792,\tbest of gen size: 32\n"
     ]
    }
   ],
   "source": [
    "from copy import deepcopy\n",
    "import json\n",
    "from genepro.selection import elitism_selection, tournament_selection\n",
    "from genepro.variation import coeff_mutation, subtree_crossover, subtree_mutation\n",
    "\n",
    "experiment_name = \"fitness_symmetry\"\n",
    "num_features = env.observation_space.shape[0]\n",
    "evo_settings = {\n",
    "    \"rollout_function\": rollout_function_symmetry,\n",
    "    \"fitness_function\": fitness_baseline,\n",
    "    \"internal_nodes\": [[Plus(), Times(), Div(), Sin(), Sqrt(), Square()]],\n",
    "    \"leaf_nodes\": [[Feature(i) for i in range(num_features)] + [Constant()]],\n",
    "    \"n_trees\": 3,\n",
    "    \"pop_size\": 32,\n",
    "    \"max_gens\": 500,\n",
    "    \"init_max_depth\": 4,\n",
    "    \"max_tree_size\": 32,\n",
    "    \"crossovers\": [[{\"fun\": subtree_crossover, \"rate\": 0.5}]],\n",
    "    \"mutations\": [[{\"fun\": subtree_mutation, \"rate\": 0.5}]],\n",
    "    \"coeff_opts\": [[{\"fun\": coeff_mutation, \"rate\": 0.5}]],\n",
    "    \"selection\": {\"fun\": tournament_selection, \"kwargs\": {\"tournament_size\": 4}},\n",
    "    \"n_jobs\": 8,\n",
    "    \"verbose\": True\n",
    "}\n",
    "\n",
    "def hpo_evolve(evo_settings, experiment_name):\n",
    "    hpo_settings = list(grid_search_params(evo_settings))\n",
    "    for settings in hpo_settings:\n",
    "        serialized_dict = serialize_functions_in_dict(deepcopy(settings))\n",
    "        print(serialized_dict)\n",
    "        \n",
    "    for i, settings in enumerate(hpo_settings):\n",
    "        specific_experiment_name = experiment_name + f\"_pops{settings['pop_size']}_gens{settings['max_gens']}_mts{settings['max_tree_size']}_cor{settings['crossovers'][0]['rate']}_mutr{settings['mutations'][0]['rate']}_coeffr{settings['coeff_opts'][0]['rate']}\"\n",
    "        os.makedirs(f\"./experiments/{specific_experiment_name}\", exist_ok=True)\n",
    "        with open(f\"./experiments/{specific_experiment_name}/evo_settings.json\", \"w\") as f:\n",
    "            serialized_dict = serialize_functions_in_dict(deepcopy(settings))\n",
    "            json.dump(serialized_dict, f)\n",
    "\n",
    "        evo_baseline = Evolution(**settings)\n",
    "        evo_baseline.evolve()\n",
    "\n",
    "        with open(f\"./experiments/{specific_experiment_name}/evolution_class.pickle\", \"wb\") as f:\n",
    "            pickle.dump(evo_baseline, f)\n",
    "        \n",
    "        generation_evo_fitnesses, generation_test_fitnesses = save_and_evaluate_evo_generations(evo_baseline, evo_settings['rollout_function'], specific_experiment_name, num_episodes=5)\n",
    "        plot_evo_test_fitnesses(generation_evo_fitnesses, generation_test_fitnesses, specific_experiment_name)\n",
    "\n",
    "for i in range(n_experiments:=4):\n",
    "    hpo_evolve(evo_settings, experiment_name=f'{experiment_name}_exp{i}')"
   ]
  },
  {
   "cell_type": "markdown",
   "metadata": {},
   "source": [
    "# Vizualize the different experiments."
   ]
  },
  {
   "cell_type": "markdown",
   "metadata": {},
   "source": [
    "## Make an animation\n",
    "Here the best evolved individual is selected and one episode is rendered. Make sure to save your lunar landers over time to track progress and make comparisons."
   ]
  },
  {
   "cell_type": "code",
   "execution_count": 9,
   "metadata": {},
   "outputs": [],
   "source": [
    "# # gist to save gif from https://gist.github.com/botforge/64cbb71780e6208172bbf03cd9293553\n",
    "# def save_frames_as_gif(frames, path=\"./\", filename=\"evolved_lander.gif\"):\n",
    "#     plt.figure(figsize=(frames[0].shape[1] / 72.0, frames[0].shape[0] / 72.0), dpi=72)\n",
    "#     patch = plt.imshow(frames[0])\n",
    "#     plt.axis(\"off\")\n",
    "\n",
    "#     def animate(i):\n",
    "#         patch.set_data(frames[i])\n",
    "\n",
    "#     anim = animation.FuncAnimation(plt.gcf(), animate, frames=len(frames), interval=50)\n",
    "#     anim.save(path + filename, writer=\"imagemagick\", fps=60)\n",
    "\n",
    "\n",
    "# frames = []\n",
    "# avg_fitness, frames = get_test_score(evo.best_of_gens[-1], num_episodes=5, episode_duration=300, seed=5, render=True)\n",
    "# print(\"Average fitness of the render is: \", avg_fitness)\n",
    "# env.close()\n",
    "# save_frames_as_gif(frames)"
   ]
  },
  {
   "cell_type": "markdown",
   "metadata": {},
   "source": [
    "## Play animation"
   ]
  },
  {
   "cell_type": "markdown",
   "metadata": {},
   "source": [
    "<img src=\"evolved_lander.gif\" width=\"750\">"
   ]
  },
  {
   "cell_type": "markdown",
   "metadata": {},
   "source": [
    "## Optimisation\n",
    "The coefficients in the multi-tree aren't optimised. Here Q-learning (taken from https://pytorch.org/tutorials/intermediate/reinforcement_q_learning.html) is used to optimise the weights further. Incorporate coefficient optimisation in training your agent(s). Coefficient Optimisation can be expensive. Think about how often you want to optimise, when, which individuals etc."
   ]
  },
  {
   "cell_type": "code",
   "execution_count": 10,
   "metadata": {},
   "outputs": [],
   "source": [
    "# batch_size = 128\n",
    "# GAMMA = 0.99\n",
    "\n",
    "# constants = best.get_subtrees_consts()\n",
    "\n",
    "# if len(constants) > 0:\n",
    "#     optimizer = optim.AdamW(constants, lr=1e-3, amsgrad=True)\n",
    "\n",
    "# for _ in range(500):\n",
    "#     if len(constants) > 0 and len(evo.memory) > batch_size:\n",
    "#         target_tree = copy.deepcopy(best)\n",
    "\n",
    "#         transitions = evo.memory.sample(batch_size)\n",
    "#         batch = Transition(*zip(*transitions))\n",
    "\n",
    "#         non_final_mask = torch.tensor(\n",
    "#             tuple(map(lambda s: s is not None, batch.next_state)), dtype=torch.bool\n",
    "#         )\n",
    "\n",
    "#         non_final_next_states = torch.cat(\n",
    "#             [s for s in batch.next_state if s is not None]\n",
    "#         )\n",
    "#         state_batch = torch.cat(batch.state)\n",
    "#         action_batch = torch.cat(batch.action)\n",
    "#         reward_batch = torch.cat(batch.reward)\n",
    "\n",
    "#         state_action_values = best.get_output_pt(state_batch).gather(1, action_batch)\n",
    "#         next_state_values = torch.zeros(batch_size, dtype=torch.float)\n",
    "#         with torch.no_grad():\n",
    "#             next_state_values[non_final_mask] = (\n",
    "#                 target_tree.get_output_pt(non_final_next_states).max(1)[0].float()\n",
    "#             )\n",
    "\n",
    "#         expected_state_action_values = (next_state_values * GAMMA) + reward_batch\n",
    "\n",
    "#         criterion = nn.SmoothL1Loss()\n",
    "#         loss = criterion(state_action_values, expected_state_action_values.unsqueeze(1))\n",
    "\n",
    "#         # Optimize the model\n",
    "#         optimizer.zero_grad()\n",
    "#         loss.backward()\n",
    "#         torch.nn.utils.clip_grad_value_(constants, 100)\n",
    "#         optimizer.step()\n",
    "\n",
    "# print(best.get_readable_repr())\n",
    "# print(get_test_score(best))"
   ]
  },
  {
   "cell_type": "code",
   "execution_count": 11,
   "metadata": {},
   "outputs": [],
   "source": [
    "# frames = []\n",
    "# fitness_function_pt(\n",
    "#     best, num_episodes=1, episode_duration=500, render=True, ignore_done=False\n",
    "# )\n",
    "# env.close()\n",
    "# save_frames_as_gif(frames, filename=\"evolved_lander_RL.gif\")"
   ]
  },
  {
   "cell_type": "markdown",
   "metadata": {},
   "source": [
    "<img src=\"evolved_lander_RL.gif\" width=\"750\">"
   ]
  },
  {
   "cell_type": "code",
   "execution_count": null,
   "metadata": {},
   "outputs": [],
   "source": []
  },
  {
   "cell_type": "code",
   "execution_count": null,
   "metadata": {},
   "outputs": [],
   "source": []
  }
 ],
 "metadata": {
  "kernelspec": {
   "display_name": "Python 3 (ipykernel)",
   "language": "python",
   "name": "python3"
  },
  "language_info": {
   "codemirror_mode": {
    "name": "ipython",
    "version": 3
   },
   "file_extension": ".py",
   "mimetype": "text/x-python",
   "name": "python",
   "nbconvert_exporter": "python",
   "pygments_lexer": "ipython3",
   "version": "3.11.3"
  }
 },
 "nbformat": 4,
 "nbformat_minor": 4
}
